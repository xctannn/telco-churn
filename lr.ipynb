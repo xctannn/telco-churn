{
  "cells": [
    {
      "cell_type": "markdown",
      "metadata": {
        "id": "lwTLP0blJ0hY"
      },
      "source": [
        "### **Read data**"
      ]
    },
    {
      "cell_type": "code",
      "execution_count": 1,
      "metadata": {
        "colab": {
          "base_uri": "https://localhost:8080/",
          "height": 261
        },
        "id": "Voe81KHqJ0hZ",
        "outputId": "bcb4d128-05e1-4ed9-dc57-e97d11e1961e"
      },
      "outputs": [],
      "source": [
        "import pandas as pd\n",
        "import os\n",
        "import matplotlib.pyplot as plt\n",
        "import seaborn as sns\n",
        "import numpy as np\n",
        "\n",
        "%matplotlib inline\n",
        "pd.set_option('display.max_columns', None)\n",
        "pd.set_option('max_colwidth', None)\n",
        "\n",
        "data_root = './dataset'\n",
        "train_path = os.path.join(data_root, 'train.csv')\n",
        "val_path = os.path.join(data_root, 'val.csv')\n",
        "test_path = os.path.join(data_root, 'test.csv')"
      ]
    },
    {
      "cell_type": "code",
      "execution_count": 2,
      "metadata": {
        "colab": {
          "base_uri": "https://localhost:8080/"
        },
        "id": "FHk5m0gXJ0ha",
        "outputId": "dc794633-397d-4792-dca7-0f76a6f78efc"
      },
      "outputs": [
        {
          "data": {
            "text/html": [
              "<div>\n",
              "<style scoped>\n",
              "    .dataframe tbody tr th:only-of-type {\n",
              "        vertical-align: middle;\n",
              "    }\n",
              "\n",
              "    .dataframe tbody tr th {\n",
              "        vertical-align: top;\n",
              "    }\n",
              "\n",
              "    .dataframe thead th {\n",
              "        text-align: right;\n",
              "    }\n",
              "</style>\n",
              "<table border=\"1\" class=\"dataframe\">\n",
              "  <thead>\n",
              "    <tr style=\"text-align: right;\">\n",
              "      <th></th>\n",
              "      <th>gender</th>\n",
              "      <th>SeniorCitizen</th>\n",
              "      <th>Partner</th>\n",
              "      <th>Dependents</th>\n",
              "      <th>tenure</th>\n",
              "      <th>PhoneService</th>\n",
              "      <th>MultipleLines</th>\n",
              "      <th>OnlineSecurity</th>\n",
              "      <th>OnlineBackup</th>\n",
              "      <th>DeviceProtection</th>\n",
              "      <th>TechSupport</th>\n",
              "      <th>StreamingTV</th>\n",
              "      <th>StreamingMovies</th>\n",
              "      <th>PaperlessBilling</th>\n",
              "      <th>MonthlyCharges</th>\n",
              "      <th>TotalCharges</th>\n",
              "      <th>Churn</th>\n",
              "      <th>InternetService_DSL</th>\n",
              "      <th>InternetService_Fiber optic</th>\n",
              "      <th>InternetService_No</th>\n",
              "      <th>Contract_Month-to-month</th>\n",
              "      <th>Contract_One year</th>\n",
              "      <th>Contract_Two year</th>\n",
              "      <th>PaymentMethod_Bank transfer (automatic)</th>\n",
              "      <th>PaymentMethod_Credit card (automatic)</th>\n",
              "      <th>PaymentMethod_Electronic check</th>\n",
              "      <th>PaymentMethod_Mailed check</th>\n",
              "    </tr>\n",
              "  </thead>\n",
              "  <tbody>\n",
              "    <tr>\n",
              "      <th>0</th>\n",
              "      <td>0</td>\n",
              "      <td>0</td>\n",
              "      <td>0</td>\n",
              "      <td>0</td>\n",
              "      <td>0.069444</td>\n",
              "      <td>1</td>\n",
              "      <td>0</td>\n",
              "      <td>0</td>\n",
              "      <td>0</td>\n",
              "      <td>0</td>\n",
              "      <td>1</td>\n",
              "      <td>0</td>\n",
              "      <td>0</td>\n",
              "      <td>1</td>\n",
              "      <td>0.571998</td>\n",
              "      <td>0.043925</td>\n",
              "      <td>0</td>\n",
              "      <td>0</td>\n",
              "      <td>1</td>\n",
              "      <td>0</td>\n",
              "      <td>1</td>\n",
              "      <td>0</td>\n",
              "      <td>0</td>\n",
              "      <td>0</td>\n",
              "      <td>0</td>\n",
              "      <td>0</td>\n",
              "      <td>1</td>\n",
              "    </tr>\n",
              "    <tr>\n",
              "      <th>1</th>\n",
              "      <td>0</td>\n",
              "      <td>0</td>\n",
              "      <td>0</td>\n",
              "      <td>0</td>\n",
              "      <td>0.291667</td>\n",
              "      <td>1</td>\n",
              "      <td>0</td>\n",
              "      <td>1</td>\n",
              "      <td>0</td>\n",
              "      <td>1</td>\n",
              "      <td>1</td>\n",
              "      <td>0</td>\n",
              "      <td>0</td>\n",
              "      <td>1</td>\n",
              "      <td>0.418535</td>\n",
              "      <td>0.143036</td>\n",
              "      <td>0</td>\n",
              "      <td>1</td>\n",
              "      <td>0</td>\n",
              "      <td>0</td>\n",
              "      <td>0</td>\n",
              "      <td>1</td>\n",
              "      <td>0</td>\n",
              "      <td>0</td>\n",
              "      <td>0</td>\n",
              "      <td>1</td>\n",
              "      <td>0</td>\n",
              "    </tr>\n",
              "    <tr>\n",
              "      <th>2</th>\n",
              "      <td>0</td>\n",
              "      <td>0</td>\n",
              "      <td>1</td>\n",
              "      <td>1</td>\n",
              "      <td>0.763889</td>\n",
              "      <td>1</td>\n",
              "      <td>1</td>\n",
              "      <td>0</td>\n",
              "      <td>0</td>\n",
              "      <td>0</td>\n",
              "      <td>0</td>\n",
              "      <td>0</td>\n",
              "      <td>0</td>\n",
              "      <td>1</td>\n",
              "      <td>0.073742</td>\n",
              "      <td>0.157997</td>\n",
              "      <td>0</td>\n",
              "      <td>0</td>\n",
              "      <td>0</td>\n",
              "      <td>1</td>\n",
              "      <td>0</td>\n",
              "      <td>0</td>\n",
              "      <td>1</td>\n",
              "      <td>0</td>\n",
              "      <td>1</td>\n",
              "      <td>0</td>\n",
              "      <td>0</td>\n",
              "    </tr>\n",
              "    <tr>\n",
              "      <th>3</th>\n",
              "      <td>1</td>\n",
              "      <td>0</td>\n",
              "      <td>0</td>\n",
              "      <td>0</td>\n",
              "      <td>0.277778</td>\n",
              "      <td>1</td>\n",
              "      <td>0</td>\n",
              "      <td>0</td>\n",
              "      <td>0</td>\n",
              "      <td>0</td>\n",
              "      <td>0</td>\n",
              "      <td>1</td>\n",
              "      <td>0</td>\n",
              "      <td>0</td>\n",
              "      <td>0.603388</td>\n",
              "      <td>0.187226</td>\n",
              "      <td>0</td>\n",
              "      <td>0</td>\n",
              "      <td>1</td>\n",
              "      <td>0</td>\n",
              "      <td>1</td>\n",
              "      <td>0</td>\n",
              "      <td>0</td>\n",
              "      <td>0</td>\n",
              "      <td>0</td>\n",
              "      <td>1</td>\n",
              "      <td>0</td>\n",
              "    </tr>\n",
              "    <tr>\n",
              "      <th>4</th>\n",
              "      <td>0</td>\n",
              "      <td>0</td>\n",
              "      <td>1</td>\n",
              "      <td>0</td>\n",
              "      <td>0.333333</td>\n",
              "      <td>1</td>\n",
              "      <td>0</td>\n",
              "      <td>0</td>\n",
              "      <td>0</td>\n",
              "      <td>0</td>\n",
              "      <td>0</td>\n",
              "      <td>0</td>\n",
              "      <td>0</td>\n",
              "      <td>0</td>\n",
              "      <td>0.021425</td>\n",
              "      <td>0.053543</td>\n",
              "      <td>0</td>\n",
              "      <td>0</td>\n",
              "      <td>0</td>\n",
              "      <td>1</td>\n",
              "      <td>0</td>\n",
              "      <td>1</td>\n",
              "      <td>0</td>\n",
              "      <td>0</td>\n",
              "      <td>1</td>\n",
              "      <td>0</td>\n",
              "      <td>0</td>\n",
              "    </tr>\n",
              "  </tbody>\n",
              "</table>\n",
              "</div>"
            ],
            "text/plain": [
              "   gender  SeniorCitizen  Partner  Dependents    tenure  PhoneService  \\\n",
              "0       0              0        0           0  0.069444             1   \n",
              "1       0              0        0           0  0.291667             1   \n",
              "2       0              0        1           1  0.763889             1   \n",
              "3       1              0        0           0  0.277778             1   \n",
              "4       0              0        1           0  0.333333             1   \n",
              "\n",
              "   MultipleLines  OnlineSecurity  OnlineBackup  DeviceProtection  TechSupport  \\\n",
              "0              0               0             0                 0            1   \n",
              "1              0               1             0                 1            1   \n",
              "2              1               0             0                 0            0   \n",
              "3              0               0             0                 0            0   \n",
              "4              0               0             0                 0            0   \n",
              "\n",
              "   StreamingTV  StreamingMovies  PaperlessBilling  MonthlyCharges  \\\n",
              "0            0                0                 1        0.571998   \n",
              "1            0                0                 1        0.418535   \n",
              "2            0                0                 1        0.073742   \n",
              "3            1                0                 0        0.603388   \n",
              "4            0                0                 0        0.021425   \n",
              "\n",
              "   TotalCharges  Churn  InternetService_DSL  InternetService_Fiber optic  \\\n",
              "0      0.043925      0                    0                            1   \n",
              "1      0.143036      0                    1                            0   \n",
              "2      0.157997      0                    0                            0   \n",
              "3      0.187226      0                    0                            1   \n",
              "4      0.053543      0                    0                            0   \n",
              "\n",
              "   InternetService_No  Contract_Month-to-month  Contract_One year  \\\n",
              "0                   0                        1                  0   \n",
              "1                   0                        0                  1   \n",
              "2                   1                        0                  0   \n",
              "3                   0                        1                  0   \n",
              "4                   1                        0                  1   \n",
              "\n",
              "   Contract_Two year  PaymentMethod_Bank transfer (automatic)  \\\n",
              "0                  0                                        0   \n",
              "1                  0                                        0   \n",
              "2                  1                                        0   \n",
              "3                  0                                        0   \n",
              "4                  0                                        0   \n",
              "\n",
              "   PaymentMethod_Credit card (automatic)  PaymentMethod_Electronic check  \\\n",
              "0                                      0                               0   \n",
              "1                                      0                               1   \n",
              "2                                      1                               0   \n",
              "3                                      0                               1   \n",
              "4                                      1                               0   \n",
              "\n",
              "   PaymentMethod_Mailed check  \n",
              "0                           1  \n",
              "1                           0  \n",
              "2                           0  \n",
              "3                           0  \n",
              "4                           0  "
            ]
          },
          "execution_count": 2,
          "metadata": {},
          "output_type": "execute_result"
        }
      ],
      "source": [
        "train = pd.read_csv(train_path)\n",
        "train.head()"
      ]
    },
    {
      "cell_type": "code",
      "execution_count": 3,
      "metadata": {},
      "outputs": [
        {
          "data": {
            "text/html": [
              "<div>\n",
              "<style scoped>\n",
              "    .dataframe tbody tr th:only-of-type {\n",
              "        vertical-align: middle;\n",
              "    }\n",
              "\n",
              "    .dataframe tbody tr th {\n",
              "        vertical-align: top;\n",
              "    }\n",
              "\n",
              "    .dataframe thead th {\n",
              "        text-align: right;\n",
              "    }\n",
              "</style>\n",
              "<table border=\"1\" class=\"dataframe\">\n",
              "  <thead>\n",
              "    <tr style=\"text-align: right;\">\n",
              "      <th></th>\n",
              "      <th>gender</th>\n",
              "      <th>SeniorCitizen</th>\n",
              "      <th>Partner</th>\n",
              "      <th>Dependents</th>\n",
              "      <th>tenure</th>\n",
              "      <th>PhoneService</th>\n",
              "      <th>MultipleLines</th>\n",
              "      <th>OnlineSecurity</th>\n",
              "      <th>OnlineBackup</th>\n",
              "      <th>DeviceProtection</th>\n",
              "      <th>TechSupport</th>\n",
              "      <th>StreamingTV</th>\n",
              "      <th>StreamingMovies</th>\n",
              "      <th>PaperlessBilling</th>\n",
              "      <th>MonthlyCharges</th>\n",
              "      <th>TotalCharges</th>\n",
              "      <th>InternetService_DSL</th>\n",
              "      <th>InternetService_Fiber optic</th>\n",
              "      <th>InternetService_No</th>\n",
              "      <th>Contract_Month-to-month</th>\n",
              "      <th>Contract_One year</th>\n",
              "      <th>Contract_Two year</th>\n",
              "      <th>PaymentMethod_Bank transfer (automatic)</th>\n",
              "      <th>PaymentMethod_Credit card (automatic)</th>\n",
              "      <th>PaymentMethod_Electronic check</th>\n",
              "      <th>PaymentMethod_Mailed check</th>\n",
              "      <th>Churn</th>\n",
              "    </tr>\n",
              "  </thead>\n",
              "  <tbody>\n",
              "    <tr>\n",
              "      <th>0</th>\n",
              "      <td>1</td>\n",
              "      <td>0</td>\n",
              "      <td>0</td>\n",
              "      <td>0</td>\n",
              "      <td>0.819444</td>\n",
              "      <td>0</td>\n",
              "      <td>0</td>\n",
              "      <td>0</td>\n",
              "      <td>0</td>\n",
              "      <td>0</td>\n",
              "      <td>1</td>\n",
              "      <td>1</td>\n",
              "      <td>1</td>\n",
              "      <td>1</td>\n",
              "      <td>0.333333</td>\n",
              "      <td>0.344680</td>\n",
              "      <td>1</td>\n",
              "      <td>0</td>\n",
              "      <td>0</td>\n",
              "      <td>1</td>\n",
              "      <td>0</td>\n",
              "      <td>0</td>\n",
              "      <td>0</td>\n",
              "      <td>0</td>\n",
              "      <td>1</td>\n",
              "      <td>0</td>\n",
              "      <td>0</td>\n",
              "    </tr>\n",
              "    <tr>\n",
              "      <th>1</th>\n",
              "      <td>0</td>\n",
              "      <td>0</td>\n",
              "      <td>1</td>\n",
              "      <td>0</td>\n",
              "      <td>0.819444</td>\n",
              "      <td>1</td>\n",
              "      <td>1</td>\n",
              "      <td>1</td>\n",
              "      <td>1</td>\n",
              "      <td>0</td>\n",
              "      <td>0</td>\n",
              "      <td>1</td>\n",
              "      <td>0</td>\n",
              "      <td>1</td>\n",
              "      <td>0.762332</td>\n",
              "      <td>0.643763</td>\n",
              "      <td>0</td>\n",
              "      <td>1</td>\n",
              "      <td>0</td>\n",
              "      <td>1</td>\n",
              "      <td>0</td>\n",
              "      <td>0</td>\n",
              "      <td>0</td>\n",
              "      <td>0</td>\n",
              "      <td>1</td>\n",
              "      <td>0</td>\n",
              "      <td>0</td>\n",
              "    </tr>\n",
              "    <tr>\n",
              "      <th>2</th>\n",
              "      <td>1</td>\n",
              "      <td>0</td>\n",
              "      <td>0</td>\n",
              "      <td>1</td>\n",
              "      <td>0.055556</td>\n",
              "      <td>1</td>\n",
              "      <td>1</td>\n",
              "      <td>0</td>\n",
              "      <td>0</td>\n",
              "      <td>0</td>\n",
              "      <td>1</td>\n",
              "      <td>0</td>\n",
              "      <td>0</td>\n",
              "      <td>0</td>\n",
              "      <td>0.623318</td>\n",
              "      <td>0.036193</td>\n",
              "      <td>0</td>\n",
              "      <td>1</td>\n",
              "      <td>0</td>\n",
              "      <td>1</td>\n",
              "      <td>0</td>\n",
              "      <td>0</td>\n",
              "      <td>0</td>\n",
              "      <td>1</td>\n",
              "      <td>0</td>\n",
              "      <td>0</td>\n",
              "      <td>1</td>\n",
              "    </tr>\n",
              "    <tr>\n",
              "      <th>3</th>\n",
              "      <td>0</td>\n",
              "      <td>0</td>\n",
              "      <td>0</td>\n",
              "      <td>0</td>\n",
              "      <td>0.569444</td>\n",
              "      <td>1</td>\n",
              "      <td>1</td>\n",
              "      <td>0</td>\n",
              "      <td>1</td>\n",
              "      <td>1</td>\n",
              "      <td>0</td>\n",
              "      <td>1</td>\n",
              "      <td>1</td>\n",
              "      <td>1</td>\n",
              "      <td>0.877429</td>\n",
              "      <td>0.510576</td>\n",
              "      <td>0</td>\n",
              "      <td>1</td>\n",
              "      <td>0</td>\n",
              "      <td>1</td>\n",
              "      <td>0</td>\n",
              "      <td>0</td>\n",
              "      <td>0</td>\n",
              "      <td>0</td>\n",
              "      <td>1</td>\n",
              "      <td>0</td>\n",
              "      <td>1</td>\n",
              "    </tr>\n",
              "    <tr>\n",
              "      <th>4</th>\n",
              "      <td>1</td>\n",
              "      <td>0</td>\n",
              "      <td>0</td>\n",
              "      <td>0</td>\n",
              "      <td>0.638889</td>\n",
              "      <td>0</td>\n",
              "      <td>0</td>\n",
              "      <td>1</td>\n",
              "      <td>0</td>\n",
              "      <td>1</td>\n",
              "      <td>1</td>\n",
              "      <td>1</td>\n",
              "      <td>1</td>\n",
              "      <td>1</td>\n",
              "      <td>0.423518</td>\n",
              "      <td>0.331710</td>\n",
              "      <td>1</td>\n",
              "      <td>0</td>\n",
              "      <td>0</td>\n",
              "      <td>0</td>\n",
              "      <td>0</td>\n",
              "      <td>1</td>\n",
              "      <td>1</td>\n",
              "      <td>0</td>\n",
              "      <td>0</td>\n",
              "      <td>0</td>\n",
              "      <td>0</td>\n",
              "    </tr>\n",
              "  </tbody>\n",
              "</table>\n",
              "</div>"
            ],
            "text/plain": [
              "   gender  SeniorCitizen  Partner  Dependents    tenure  PhoneService  \\\n",
              "0       1              0        0           0  0.819444             0   \n",
              "1       0              0        1           0  0.819444             1   \n",
              "2       1              0        0           1  0.055556             1   \n",
              "3       0              0        0           0  0.569444             1   \n",
              "4       1              0        0           0  0.638889             0   \n",
              "\n",
              "   MultipleLines  OnlineSecurity  OnlineBackup  DeviceProtection  TechSupport  \\\n",
              "0              0               0             0                 0            1   \n",
              "1              1               1             1                 0            0   \n",
              "2              1               0             0                 0            1   \n",
              "3              1               0             1                 1            0   \n",
              "4              0               1             0                 1            1   \n",
              "\n",
              "   StreamingTV  StreamingMovies  PaperlessBilling  MonthlyCharges  \\\n",
              "0            1                1                 1        0.333333   \n",
              "1            1                0                 1        0.762332   \n",
              "2            0                0                 0        0.623318   \n",
              "3            1                1                 1        0.877429   \n",
              "4            1                1                 1        0.423518   \n",
              "\n",
              "   TotalCharges  InternetService_DSL  InternetService_Fiber optic  \\\n",
              "0      0.344680                    1                            0   \n",
              "1      0.643763                    0                            1   \n",
              "2      0.036193                    0                            1   \n",
              "3      0.510576                    0                            1   \n",
              "4      0.331710                    1                            0   \n",
              "\n",
              "   InternetService_No  Contract_Month-to-month  Contract_One year  \\\n",
              "0                   0                        1                  0   \n",
              "1                   0                        1                  0   \n",
              "2                   0                        1                  0   \n",
              "3                   0                        1                  0   \n",
              "4                   0                        0                  0   \n",
              "\n",
              "   Contract_Two year  PaymentMethod_Bank transfer (automatic)  \\\n",
              "0                  0                                        0   \n",
              "1                  0                                        0   \n",
              "2                  0                                        0   \n",
              "3                  0                                        0   \n",
              "4                  1                                        1   \n",
              "\n",
              "   PaymentMethod_Credit card (automatic)  PaymentMethod_Electronic check  \\\n",
              "0                                      0                               1   \n",
              "1                                      0                               1   \n",
              "2                                      1                               0   \n",
              "3                                      0                               1   \n",
              "4                                      0                               0   \n",
              "\n",
              "   PaymentMethod_Mailed check  Churn  \n",
              "0                           0      0  \n",
              "1                           0      0  \n",
              "2                           0      1  \n",
              "3                           0      1  \n",
              "4                           0      0  "
            ]
          },
          "execution_count": 3,
          "metadata": {},
          "output_type": "execute_result"
        }
      ],
      "source": [
        "val = pd.read_csv(val_path)\n",
        "val.head()"
      ]
    },
    {
      "cell_type": "code",
      "execution_count": 4,
      "metadata": {},
      "outputs": [
        {
          "data": {
            "text/html": [
              "<div>\n",
              "<style scoped>\n",
              "    .dataframe tbody tr th:only-of-type {\n",
              "        vertical-align: middle;\n",
              "    }\n",
              "\n",
              "    .dataframe tbody tr th {\n",
              "        vertical-align: top;\n",
              "    }\n",
              "\n",
              "    .dataframe thead th {\n",
              "        text-align: right;\n",
              "    }\n",
              "</style>\n",
              "<table border=\"1\" class=\"dataframe\">\n",
              "  <thead>\n",
              "    <tr style=\"text-align: right;\">\n",
              "      <th></th>\n",
              "      <th>gender</th>\n",
              "      <th>SeniorCitizen</th>\n",
              "      <th>Partner</th>\n",
              "      <th>Dependents</th>\n",
              "      <th>tenure</th>\n",
              "      <th>PhoneService</th>\n",
              "      <th>MultipleLines</th>\n",
              "      <th>OnlineSecurity</th>\n",
              "      <th>OnlineBackup</th>\n",
              "      <th>DeviceProtection</th>\n",
              "      <th>TechSupport</th>\n",
              "      <th>StreamingTV</th>\n",
              "      <th>StreamingMovies</th>\n",
              "      <th>PaperlessBilling</th>\n",
              "      <th>MonthlyCharges</th>\n",
              "      <th>TotalCharges</th>\n",
              "      <th>InternetService_DSL</th>\n",
              "      <th>InternetService_Fiber optic</th>\n",
              "      <th>InternetService_No</th>\n",
              "      <th>Contract_Month-to-month</th>\n",
              "      <th>Contract_One year</th>\n",
              "      <th>Contract_Two year</th>\n",
              "      <th>PaymentMethod_Bank transfer (automatic)</th>\n",
              "      <th>PaymentMethod_Credit card (automatic)</th>\n",
              "      <th>PaymentMethod_Electronic check</th>\n",
              "      <th>PaymentMethod_Mailed check</th>\n",
              "      <th>Churn</th>\n",
              "    </tr>\n",
              "  </thead>\n",
              "  <tbody>\n",
              "    <tr>\n",
              "      <th>0</th>\n",
              "      <td>0</td>\n",
              "      <td>0</td>\n",
              "      <td>1</td>\n",
              "      <td>0</td>\n",
              "      <td>0.013889</td>\n",
              "      <td>0</td>\n",
              "      <td>0</td>\n",
              "      <td>0</td>\n",
              "      <td>0</td>\n",
              "      <td>0</td>\n",
              "      <td>0</td>\n",
              "      <td>0</td>\n",
              "      <td>0</td>\n",
              "      <td>1</td>\n",
              "      <td>0.065272</td>\n",
              "      <td>0.000692</td>\n",
              "      <td>1</td>\n",
              "      <td>0</td>\n",
              "      <td>0</td>\n",
              "      <td>1</td>\n",
              "      <td>0</td>\n",
              "      <td>0</td>\n",
              "      <td>0</td>\n",
              "      <td>0</td>\n",
              "      <td>1</td>\n",
              "      <td>0</td>\n",
              "      <td>1</td>\n",
              "    </tr>\n",
              "    <tr>\n",
              "      <th>1</th>\n",
              "      <td>1</td>\n",
              "      <td>0</td>\n",
              "      <td>0</td>\n",
              "      <td>0</td>\n",
              "      <td>0.569444</td>\n",
              "      <td>1</td>\n",
              "      <td>1</td>\n",
              "      <td>0</td>\n",
              "      <td>0</td>\n",
              "      <td>0</td>\n",
              "      <td>0</td>\n",
              "      <td>0</td>\n",
              "      <td>0</td>\n",
              "      <td>1</td>\n",
              "      <td>0.069756</td>\n",
              "      <td>0.112814</td>\n",
              "      <td>0</td>\n",
              "      <td>0</td>\n",
              "      <td>1</td>\n",
              "      <td>1</td>\n",
              "      <td>0</td>\n",
              "      <td>0</td>\n",
              "      <td>1</td>\n",
              "      <td>0</td>\n",
              "      <td>0</td>\n",
              "      <td>0</td>\n",
              "      <td>0</td>\n",
              "    </tr>\n",
              "    <tr>\n",
              "      <th>2</th>\n",
              "      <td>0</td>\n",
              "      <td>0</td>\n",
              "      <td>1</td>\n",
              "      <td>1</td>\n",
              "      <td>0.722222</td>\n",
              "      <td>1</td>\n",
              "      <td>0</td>\n",
              "      <td>0</td>\n",
              "      <td>0</td>\n",
              "      <td>0</td>\n",
              "      <td>0</td>\n",
              "      <td>0</td>\n",
              "      <td>0</td>\n",
              "      <td>0</td>\n",
              "      <td>0.010962</td>\n",
              "      <td>0.116882</td>\n",
              "      <td>0</td>\n",
              "      <td>0</td>\n",
              "      <td>1</td>\n",
              "      <td>0</td>\n",
              "      <td>0</td>\n",
              "      <td>1</td>\n",
              "      <td>0</td>\n",
              "      <td>0</td>\n",
              "      <td>0</td>\n",
              "      <td>1</td>\n",
              "      <td>0</td>\n",
              "    </tr>\n",
              "    <tr>\n",
              "      <th>3</th>\n",
              "      <td>0</td>\n",
              "      <td>0</td>\n",
              "      <td>0</td>\n",
              "      <td>0</td>\n",
              "      <td>0.013889</td>\n",
              "      <td>1</td>\n",
              "      <td>0</td>\n",
              "      <td>0</td>\n",
              "      <td>0</td>\n",
              "      <td>1</td>\n",
              "      <td>0</td>\n",
              "      <td>0</td>\n",
              "      <td>0</td>\n",
              "      <td>0</td>\n",
              "      <td>0.578974</td>\n",
              "      <td>0.006641</td>\n",
              "      <td>0</td>\n",
              "      <td>1</td>\n",
              "      <td>0</td>\n",
              "      <td>1</td>\n",
              "      <td>0</td>\n",
              "      <td>0</td>\n",
              "      <td>0</td>\n",
              "      <td>0</td>\n",
              "      <td>1</td>\n",
              "      <td>0</td>\n",
              "      <td>1</td>\n",
              "    </tr>\n",
              "    <tr>\n",
              "      <th>4</th>\n",
              "      <td>1</td>\n",
              "      <td>0</td>\n",
              "      <td>0</td>\n",
              "      <td>0</td>\n",
              "      <td>0.930556</td>\n",
              "      <td>1</td>\n",
              "      <td>0</td>\n",
              "      <td>0</td>\n",
              "      <td>0</td>\n",
              "      <td>0</td>\n",
              "      <td>1</td>\n",
              "      <td>0</td>\n",
              "      <td>0</td>\n",
              "      <td>0</td>\n",
              "      <td>0.321873</td>\n",
              "      <td>0.374025</td>\n",
              "      <td>1</td>\n",
              "      <td>0</td>\n",
              "      <td>0</td>\n",
              "      <td>0</td>\n",
              "      <td>0</td>\n",
              "      <td>1</td>\n",
              "      <td>1</td>\n",
              "      <td>0</td>\n",
              "      <td>0</td>\n",
              "      <td>0</td>\n",
              "      <td>0</td>\n",
              "    </tr>\n",
              "  </tbody>\n",
              "</table>\n",
              "</div>"
            ],
            "text/plain": [
              "   gender  SeniorCitizen  Partner  Dependents    tenure  PhoneService  \\\n",
              "0       0              0        1           0  0.013889             0   \n",
              "1       1              0        0           0  0.569444             1   \n",
              "2       0              0        1           1  0.722222             1   \n",
              "3       0              0        0           0  0.013889             1   \n",
              "4       1              0        0           0  0.930556             1   \n",
              "\n",
              "   MultipleLines  OnlineSecurity  OnlineBackup  DeviceProtection  TechSupport  \\\n",
              "0              0               0             0                 0            0   \n",
              "1              1               0             0                 0            0   \n",
              "2              0               0             0                 0            0   \n",
              "3              0               0             0                 1            0   \n",
              "4              0               0             0                 0            1   \n",
              "\n",
              "   StreamingTV  StreamingMovies  PaperlessBilling  MonthlyCharges  \\\n",
              "0            0                0                 1        0.065272   \n",
              "1            0                0                 1        0.069756   \n",
              "2            0                0                 0        0.010962   \n",
              "3            0                0                 0        0.578974   \n",
              "4            0                0                 0        0.321873   \n",
              "\n",
              "   TotalCharges  InternetService_DSL  InternetService_Fiber optic  \\\n",
              "0      0.000692                    1                            0   \n",
              "1      0.112814                    0                            0   \n",
              "2      0.116882                    0                            0   \n",
              "3      0.006641                    0                            1   \n",
              "4      0.374025                    1                            0   \n",
              "\n",
              "   InternetService_No  Contract_Month-to-month  Contract_One year  \\\n",
              "0                   0                        1                  0   \n",
              "1                   1                        1                  0   \n",
              "2                   1                        0                  0   \n",
              "3                   0                        1                  0   \n",
              "4                   0                        0                  0   \n",
              "\n",
              "   Contract_Two year  PaymentMethod_Bank transfer (automatic)  \\\n",
              "0                  0                                        0   \n",
              "1                  0                                        1   \n",
              "2                  1                                        0   \n",
              "3                  0                                        0   \n",
              "4                  1                                        1   \n",
              "\n",
              "   PaymentMethod_Credit card (automatic)  PaymentMethod_Electronic check  \\\n",
              "0                                      0                               1   \n",
              "1                                      0                               0   \n",
              "2                                      0                               0   \n",
              "3                                      0                               1   \n",
              "4                                      0                               0   \n",
              "\n",
              "   PaymentMethod_Mailed check  Churn  \n",
              "0                           0      1  \n",
              "1                           0      0  \n",
              "2                           1      0  \n",
              "3                           0      1  \n",
              "4                           0      0  "
            ]
          },
          "execution_count": 4,
          "metadata": {},
          "output_type": "execute_result"
        }
      ],
      "source": [
        "test = pd.read_csv(test_path)\n",
        "test.head()"
      ]
    },
    {
      "cell_type": "code",
      "execution_count": 5,
      "metadata": {},
      "outputs": [
        {
          "name": "stdout",
          "output_type": "stream",
          "text": [
            "Training set:  (7246, 27)\n",
            "Validation set:  (705, 27)\n",
            "Testing set:  (1409, 27)\n"
          ]
        }
      ],
      "source": [
        "print('Training set: ', train.shape)\n",
        "print('Validation set: ', val.shape)\n",
        "print('Testing set: ', test.shape)"
      ]
    },
    {
      "cell_type": "markdown",
      "metadata": {
        "id": "v84-wUlSJ0ha"
      },
      "source": [
        "### **Split into X,y**"
      ]
    },
    {
      "cell_type": "code",
      "execution_count": 6,
      "metadata": {
        "colab": {
          "base_uri": "https://localhost:8080/"
        },
        "id": "QHq2vMoGJ0ha",
        "outputId": "85899382-f14f-41e1-efe5-2ba84332ae36"
      },
      "outputs": [],
      "source": [
        "X_train = train.loc[:, train.columns != 'Churn'] # Features\n",
        "y_train = train.loc[:, train.columns == 'Churn'] # Target\n",
        "\n",
        "X_val = val.loc[:, val.columns != 'Churn'] # Features\n",
        "y_val = val.loc[:, val.columns == 'Churn'] # Target\n",
        "\n",
        "X_test = test.loc[:, test.columns != 'Churn'] # Features\n",
        "y_test = test.loc[:, test.columns == 'Churn'] # Target"
      ]
    },
    {
      "cell_type": "code",
      "execution_count": 7,
      "metadata": {},
      "outputs": [
        {
          "data": {
            "text/plain": [
              "(7246, 26)"
            ]
          },
          "execution_count": 7,
          "metadata": {},
          "output_type": "execute_result"
        }
      ],
      "source": [
        "X_train.shape"
      ]
    },
    {
      "cell_type": "markdown",
      "metadata": {
        "id": "TUpdDdKiJ0hb"
      },
      "source": [
        "### **Logistic Regression**"
      ]
    },
    {
      "cell_type": "code",
      "execution_count": 8,
      "metadata": {
        "colab": {
          "base_uri": "https://localhost:8080/"
        },
        "id": "0ZNXPEwkJ0hc",
        "outputId": "7d0889f1-fbed-4870-c740-b72465477482"
      },
      "outputs": [
        {
          "name": "stdout",
          "output_type": "stream",
          "text": [
            "Training time: 0.07 s\n"
          ]
        }
      ],
      "source": [
        "from sklearn.linear_model import LogisticRegression\n",
        "from sklearn.metrics import accuracy_score, classification_report, confusion_matrix\n",
        "import time\n",
        "\n",
        "logistic_classifier = LogisticRegression(random_state=42)\n",
        "\n",
        "# Measure the training time of the model\n",
        "t0 = time.time()\n",
        "\n",
        "logistic_classifier.fit(X_train, y_train.values.ravel())\n",
        "\n",
        "print(f'Training time: {time.time()-t0:.2f} s')"
      ]
    },
    {
      "cell_type": "code",
      "execution_count": 9,
      "metadata": {
        "colab": {
          "base_uri": "https://localhost:8080/",
          "height": 579
        },
        "id": "lBevOiZfJ0hc",
        "outputId": "ecea39de-a262-466e-da90-2d2e358aaacd"
      },
      "outputs": [
        {
          "name": "stdout",
          "output_type": "stream",
          "text": [
            "Accuracy: 0.7518\n",
            "Classification Report:\n",
            "              precision    recall  f1-score   support\n",
            "\n",
            "           0       0.89      0.76      0.82       515\n",
            "           1       0.53      0.74      0.62       190\n",
            "\n",
            "    accuracy                           0.75       705\n",
            "   macro avg       0.71      0.75      0.72       705\n",
            "weighted avg       0.79      0.75      0.76       705\n",
            "\n"
          ]
        },
        {
          "data": {
            "image/png": "[encoded data removed]",
            "text/plain": [
              "<Figure size 600x400 with 2 Axes>"
            ]
          },
          "metadata": {},
          "output_type": "display_data"
        }
      ],
      "source": [
        "y_val_pred = logistic_classifier.predict(X_val)\n",
        "accuracy = accuracy_score(y_val, y_val_pred)\n",
        "\n",
        "print(f'Accuracy: {accuracy:.4f}')\n",
        "\n",
        "print('Classification Report:')\n",
        "print(classification_report(y_val, y_val_pred))\n",
        "confmat = confusion_matrix(y_val, y_val_pred, normalize='true')\n",
        "\n",
        "plt.figure(figsize=(6,4))\n",
        "sns.heatmap(confmat, annot=True, cmap='Blues')\n",
        "plt.xlabel('Predicted')\n",
        "plt.ylabel('Actual')\n",
        "plt.show()"
      ]
    },
    {
      "cell_type": "code",
      "execution_count": 10,
      "metadata": {
        "colab": {
          "base_uri": "https://localhost:8080/"
        },
        "id": "ZIRAnyjyJ0hc",
        "outputId": "64646d5d-77a9-4aeb-e3d4-d5dd0e30d1db"
      },
      "outputs": [
        {
          "data": {
            "text/plain": [
              "{'C': 1.0,\n",
              " 'class_weight': None,\n",
              " 'dual': False,\n",
              " 'fit_intercept': True,\n",
              " 'intercept_scaling': 1,\n",
              " 'l1_ratio': None,\n",
              " 'max_iter': 100,\n",
              " 'multi_class': 'auto',\n",
              " 'n_jobs': None,\n",
              " 'penalty': 'l2',\n",
              " 'random_state': 42,\n",
              " 'solver': 'lbfgs',\n",
              " 'tol': 0.0001,\n",
              " 'verbose': 0,\n",
              " 'warm_start': False}"
            ]
          },
          "execution_count": 10,
          "metadata": {},
          "output_type": "execute_result"
        }
      ],
      "source": [
        "logistic_classifier.get_params()"
      ]
    },
    {
      "cell_type": "markdown",
      "metadata": {
        "id": "b4zBI6ScJ0hc"
      },
      "source": [
        "#### *Hyper-parameters Tuning for Logistic Regression*"
      ]
    },
    {
      "cell_type": "code",
      "execution_count": 11,
      "metadata": {
        "colab": {
          "base_uri": "https://localhost:8080/"
        },
        "id": "lqrSyHHZJ0hc",
        "outputId": "fb1723fa-dcec-4f0f-a4dc-ed4f3efe777f"
      },
      "outputs": [
        {
          "name": "stdout",
          "output_type": "stream",
          "text": [
            "Fitting 5 folds for each of 5 candidates, totalling 25 fits\n",
            "[CV 1/5] END .................C=0.1, penalty=l2;, score=0.761 total time=   0.0s\n",
            "[CV 2/5] END .................C=0.1, penalty=l2;, score=0.751 total time=   0.0s\n",
            "[CV 3/5] END .................C=0.1, penalty=l2;, score=0.784 total time=   0.0s\n"
          ]
        },
        {
          "name": "stdout",
          "output_type": "stream",
          "text": [
            "[CV 4/5] END .................C=0.1, penalty=l2;, score=0.803 total time=   0.0s\n",
            "[CV 5/5] END .................C=0.1, penalty=l2;, score=0.793 total time=   0.0s\n",
            "[CV 1/5] END ...................C=1, penalty=l2;, score=0.766 total time=   0.0s\n",
            "[CV 2/5] END ...................C=1, penalty=l2;, score=0.760 total time=   0.0s\n",
            "[CV 3/5] END ...................C=1, penalty=l2;, score=0.782 total time=   0.0s\n",
            "[CV 4/5] END ...................C=1, penalty=l2;, score=0.808 total time=   0.0s\n",
            "[CV 5/5] END ...................C=1, penalty=l2;, score=0.798 total time=   0.0s\n",
            "[CV 1/5] END ..................C=10, penalty=l2;, score=0.767 total time=   0.0s\n",
            "[CV 2/5] END ..................C=10, penalty=l2;, score=0.756 total time=   0.0s\n",
            "[CV 3/5] END ..................C=10, penalty=l2;, score=0.781 total time=   0.0s\n",
            "[CV 4/5] END ..................C=10, penalty=l2;, score=0.805 total time=   0.0s\n",
            "[CV 5/5] END ..................C=10, penalty=l2;, score=0.793 total time=   0.0s\n",
            "[CV 1/5] END .................C=100, penalty=l2;, score=0.768 total time=   0.0s\n",
            "[CV 2/5] END .................C=100, penalty=l2;, score=0.757 total time=   0.0s\n",
            "[CV 3/5] END .................C=100, penalty=l2;, score=0.774 total time=   0.0s\n",
            "[CV 4/5] END .................C=100, penalty=l2;, score=0.810 total time=   0.0s\n",
            "[CV 5/5] END .................C=100, penalty=l2;, score=0.798 total time=   0.0s\n",
            "[CV 1/5] END ................C=1000, penalty=l2;, score=0.766 total time=   0.0s\n",
            "[CV 2/5] END ................C=1000, penalty=l2;, score=0.761 total time=   0.0s\n",
            "[CV 3/5] END ................C=1000, penalty=l2;, score=0.782 total time=   0.0s\n",
            "[CV 4/5] END ................C=1000, penalty=l2;, score=0.808 total time=   0.0s\n",
            "[CV 5/5] END ................C=1000, penalty=l2;, score=0.794 total time=   0.0s\n",
            "{'C': 1, 'penalty': 'l2'}\n"
          ]
        }
      ],
      "source": [
        "from sklearn.model_selection import GridSearchCV\n",
        "\n",
        "param_grid = {\n",
        "    'C': [0.1, 1, 10, 100, 1000],\n",
        "    'penalty': ['l2']\n",
        "}\n",
        "logistic_grid = GridSearchCV(LogisticRegression(max_iter=1000, solver='saga', tol=0.1), param_grid, cv=5, verbose=3)\n",
        "logistic_grid.fit(X_train, y_train.values.ravel())\n",
        "\n",
        "print(logistic_grid.best_params_)"
      ]
    },
    {
      "cell_type": "markdown",
      "metadata": {
        "id": "8QQMyY0lJ0hc"
      },
      "source": [
        "#### **Tuned Logistic Regression**"
      ]
    },
    {
      "cell_type": "code",
      "execution_count": 12,
      "metadata": {
        "colab": {
          "base_uri": "https://localhost:8080/"
        },
        "id": "DET74BPBJ0hc",
        "outputId": "c44394d7-f69d-4ebe-993f-9adf4a4e0179"
      },
      "outputs": [
        {
          "name": "stdout",
          "output_type": "stream",
          "text": [
            "Training time: 0.06 s\n"
          ]
        }
      ],
      "source": [
        "best_C = logistic_grid.best_params_.get('C')\n",
        "best_penalty = logistic_grid.best_params_.get('penalty')\n",
        "\n",
        "logistic_tune = LogisticRegression(C=best_C, penalty=best_penalty, max_iter=1000, solver='saga', tol=0.1, random_state=42)\n",
        "\n",
        "t0 = time.time()\n",
        "\n",
        "logistic_tune.fit(X_train, y_train.values.ravel())\n",
        "\n",
        "print(f'Training time: {time.time()-t0:.2f} s')"
      ]
    },
    {
      "cell_type": "code",
      "execution_count": 13,
      "metadata": {
        "colab": {
          "base_uri": "https://localhost:8080/",
          "height": 579
        },
        "id": "TK38LwyEJ0hc",
        "outputId": "4c26cc2e-f2dd-48b7-bb6e-dc486468fb12"
      },
      "outputs": [
        {
          "name": "stdout",
          "output_type": "stream",
          "text": [
            "Accuracy: 0.7504\n",
            "Classification Report:\n",
            "              precision    recall  f1-score   support\n",
            "\n",
            "           0       0.89      0.75      0.82       515\n",
            "           1       0.53      0.74      0.62       190\n",
            "\n",
            "    accuracy                           0.75       705\n",
            "   macro avg       0.71      0.75      0.72       705\n",
            "weighted avg       0.79      0.75      0.76       705\n",
            "\n"
          ]
        },
        {
          "data": {
            "image/png": "[encoded data removed]",
            "text/plain": [
              "<Figure size 600x400 with 2 Axes>"
            ]
          },
          "metadata": {},
          "output_type": "display_data"
        }
      ],
      "source": [
        "y_val_tune_pred = logistic_tune.predict(X_val)\n",
        "accuracy_tune = accuracy_score(y_val, y_val_tune_pred)\n",
        "\n",
        "print(f'Accuracy: {accuracy_tune:.4f}')\n",
        "\n",
        "print('Classification Report:')\n",
        "print(classification_report(y_val, y_val_tune_pred))\n",
        "confmat_tune = confusion_matrix(y_val, y_val_tune_pred, normalize='true')\n",
        "\n",
        "plt.figure(figsize=(6,4))\n",
        "sns.heatmap(confmat_tune, annot=True, cmap='Blues')\n",
        "plt.xlabel('Predicted')\n",
        "plt.ylabel('Actual')\n",
        "plt.show()"
      ]
    },
    {
      "cell_type": "markdown",
      "metadata": {
        "id": "FA27KjXaJ0hd"
      },
      "source": [
        "### **PCA**\n",
        "Choose the number of components for which the cumulative explained variance exceeds a threshold of 0.95 (95%)."
      ]
    },
    {
      "cell_type": "code",
      "execution_count": 14,
      "metadata": {
        "colab": {
          "base_uri": "https://localhost:8080/",
          "height": 542
        },
        "id": "8zoA-cx2J0hd",
        "outputId": "5ab99d4b-b173-49cc-f2eb-e4d6acd8b1d9"
      },
      "outputs": [
        {
          "data": {
            "image/png": "[encoded data removed]",
            "text/plain": [
              "<Figure size 1200x600 with 1 Axes>"
            ]
          },
          "metadata": {},
          "output_type": "display_data"
        }
      ],
      "source": [
        "from sklearn.decomposition import PCA\n",
        "\n",
        "pca = PCA().fit(X_train)\n",
        "\n",
        "plt.rcParams[\"figure.figsize\"] = (12,6)\n",
        "fig, ax = plt.subplots()\n",
        "xi = np.arange(1, 27, step=1)\n",
        "y = np.cumsum(pca.explained_variance_ratio_)\n",
        "\n",
        "plt.ylim(0.0,1.1)\n",
        "plt.plot(xi, y, marker='o', linestyle='--', color='b')\n",
        "\n",
        "plt.xlabel('Principal Components')\n",
        "plt.xticks(np.arange(0, 27, step=1)) #change from 0-based array index to 1-based human-readable label\n",
        "plt.ylabel('Cumulative Explained Variance (%)')\n",
        "\n",
        "plt.axhline(y=0.95, color='r', linestyle='-')\n",
        "plt.text(0.5, 0.9, '95% cut-off threshold', color = 'red')\n",
        "\n",
        "ax.grid(axis='x')\n",
        "plt.show()"
      ]
    },
    {
      "cell_type": "code",
      "execution_count": 15,
      "metadata": {
        "id": "RtMXMeSUJ0hd"
      },
      "outputs": [],
      "source": [
        "pca = PCA(.95)\n",
        "pca.fit(X_train)\n",
        "X_train_pca = pca.transform(X_train)\n",
        "X_val_pca = pca.transform(X_val)\n",
        "X_test_pca = pca.transform(X_test)"
      ]
    },
    {
      "cell_type": "markdown",
      "metadata": {
        "id": "aArHR5TAJ0hd"
      },
      "source": [
        "### **Logistic Regression with PCA**"
      ]
    },
    {
      "cell_type": "code",
      "execution_count": 16,
      "metadata": {},
      "outputs": [
        {
          "name": "stdout",
          "output_type": "stream",
          "text": [
            "Training time: 0.03 s\n"
          ]
        }
      ],
      "source": [
        "logistic_pca = LogisticRegression(random_state=42)\n",
        "\n",
        "t0 = time.time()\n",
        "\n",
        "logistic_pca.fit(X_train_pca, y_train.values.ravel())\n",
        "\n",
        "print(f'Training time: {time.time()-t0:.2f} s')"
      ]
    },
    {
      "cell_type": "code",
      "execution_count": 17,
      "metadata": {
        "colab": {
          "base_uri": "https://localhost:8080/",
          "height": 579
        },
        "id": "G0kfscV6J0hd",
        "outputId": "9754c4b5-9828-4946-d7c5-61c865c5eb97"
      },
      "outputs": [
        {
          "name": "stdout",
          "output_type": "stream",
          "text": [
            "Accuracy: 0.7546\n",
            "Classification Report:\n",
            "              precision    recall  f1-score   support\n",
            "\n",
            "           0       0.90      0.75      0.82       515\n",
            "           1       0.53      0.77      0.63       190\n",
            "\n",
            "    accuracy                           0.75       705\n",
            "   macro avg       0.71      0.76      0.72       705\n",
            "weighted avg       0.80      0.75      0.77       705\n",
            "\n"
          ]
        },
        {
          "data": {
            "image/png": "[encoded data removed]",
            "text/plain": [
              "<Figure size 600x400 with 2 Axes>"
            ]
          },
          "metadata": {},
          "output_type": "display_data"
        }
      ],
      "source": [
        "y_val_logistic_pca_pred = logistic_pca.predict(X_val_pca)\n",
        "accuracy_pca = accuracy_score(y_val, y_val_logistic_pca_pred)\n",
        "\n",
        "print(f'Accuracy: {accuracy_pca:.4f}')\n",
        "\n",
        "print('Classification Report:')\n",
        "print(classification_report(y_val, y_val_logistic_pca_pred))\n",
        "logistic_pca_confmat = confusion_matrix(y_val, y_val_logistic_pca_pred, normalize='true')\n",
        "\n",
        "plt.figure(figsize=(6,4))\n",
        "sns.heatmap(logistic_pca_confmat,annot=True,cmap='Blues')\n",
        "plt.xlabel('Predicted')\n",
        "plt.ylabel('Actual')\n",
        "plt.show()"
      ]
    },
    {
      "cell_type": "markdown",
      "metadata": {
        "id": "XLl9BQ5WJ0hd"
      },
      "source": [
        "#### *Hyper-parameters Tuning Logistic Regression with PCA*"
      ]
    },
    {
      "cell_type": "code",
      "execution_count": 18,
      "metadata": {
        "colab": {
          "base_uri": "https://localhost:8080/"
        },
        "id": "w3995A-wuqcC",
        "outputId": "0675d175-9701-4e58-fce4-41b0001bab7f"
      },
      "outputs": [
        {
          "name": "stdout",
          "output_type": "stream",
          "text": [
            "{'C': 1, 'penalty': 'l2'}\n"
          ]
        }
      ],
      "source": [
        "param_grid = {\n",
        "    'C': [0.1, 1, 10, 100, 1000],\n",
        "    'penalty': ['l2']\n",
        "}\n",
        "logistic_grid = GridSearchCV(LogisticRegression(max_iter=1000, solver='saga', tol=0.1), param_grid, cv=5)\n",
        "logistic_grid.fit(X_train_pca, y_train.values.ravel())\n",
        "\n",
        "print(logistic_grid.best_params_)"
      ]
    },
    {
      "cell_type": "markdown",
      "metadata": {
        "id": "eI5hY8KkJ0hd"
      },
      "source": [
        "#### **Tuned Logistic Regression with PCA**"
      ]
    },
    {
      "cell_type": "code",
      "execution_count": 19,
      "metadata": {
        "colab": {
          "base_uri": "https://localhost:8080/"
        },
        "id": "ETlyP4-qJ0hd",
        "outputId": "5dbfaeed-93fb-48ef-8af9-2b0d85e16138"
      },
      "outputs": [
        {
          "name": "stdout",
          "output_type": "stream",
          "text": [
            "Training time: 0.03 s\n"
          ]
        }
      ],
      "source": [
        "best_C = logistic_grid.best_params_.get('C')\n",
        "best_penalty = logistic_grid.best_params_.get('penalty')\n",
        "\n",
        "logistic_pca_tune = LogisticRegression(C=best_C, penalty=best_penalty, max_iter=1000, solver='saga', tol=0.1)\n",
        "\n",
        "t0 = time.time()\n",
        "\n",
        "logistic_pca_tune.fit(X_train_pca, y_train.values.ravel())\n",
        "\n",
        "print(f'Training time: {time.time()-t0:.2f} s')"
      ]
    },
    {
      "cell_type": "code",
      "execution_count": 20,
      "metadata": {
        "colab": {
          "base_uri": "https://localhost:8080/",
          "height": 579
        },
        "id": "goW4Qx7RJ0he",
        "outputId": "cadf1679-4f6d-467c-9b23-10d064147b8d"
      },
      "outputs": [
        {
          "name": "stdout",
          "output_type": "stream",
          "text": [
            "Accuracy: 0.7574\n",
            "Classification Report:\n",
            "              precision    recall  f1-score   support\n",
            "\n",
            "           0       0.90      0.75      0.82       515\n",
            "           1       0.53      0.77      0.63       190\n",
            "\n",
            "    accuracy                           0.76       705\n",
            "   macro avg       0.72      0.76      0.73       705\n",
            "weighted avg       0.80      0.76      0.77       705\n",
            "\n"
          ]
        },
        {
          "data": {
            "image/png": "[encoded data removed]",
            "text/plain": [
              "<Figure size 600x400 with 2 Axes>"
            ]
          },
          "metadata": {},
          "output_type": "display_data"
        }
      ],
      "source": [
        "y_val_logistic_pca_tune_pred = logistic_pca_tune.predict(X_val_pca)\n",
        "accuracy_tune_pca = accuracy_score(y_val, y_val_logistic_pca_tune_pred)\n",
        "\n",
        "print(f'Accuracy: {accuracy_tune_pca:.4f}')\n",
        "\n",
        "print('Classification Report:')\n",
        "print(classification_report(y_val, y_val_logistic_pca_tune_pred))\n",
        "logistic_pca_tune_confmat = confusion_matrix(y_val, y_val_logistic_pca_tune_pred, normalize='true')\n",
        "\n",
        "plt.figure(figsize=(6,4))\n",
        "sns.heatmap(logistic_pca_tune_confmat,annot=True,cmap='Blues')\n",
        "plt.xlabel('Predicted')\n",
        "plt.ylabel('Actual')\n",
        "plt.show()"
      ]
    },
    {
      "cell_type": "markdown",
      "metadata": {},
      "source": [
        "### **Export Model**"
      ]
    },
    {
      "cell_type": "code",
      "execution_count": 21,
      "metadata": {},
      "outputs": [
        {
          "data": {
            "text/plain": [
              "['./models/lr_pca_tune.sav']"
            ]
          },
          "execution_count": 21,
          "metadata": {},
          "output_type": "execute_result"
        }
      ],
      "source": [
        "import joblib\n",
        "\n",
        "# Save model\n",
        "joblib.dump(logistic_classifier, './models/lr.sav')\n",
        "joblib.dump(logistic_tune, './models/lr_tune.sav')\n",
        "joblib.dump(logistic_pca, './models/lr_pca.sav')\n",
        "joblib.dump(logistic_pca_tune, './models/lr_pca_tune.sav')"
      ]
    }
  ],
  "metadata": {
    "colab": {
      "provenance": []
    },
    "kernelspec": {
      "display_name": "keras",
      "language": "python",
      "name": "python3"
    },
    "language_info": {
      "codemirror_mode": {
        "name": "ipython",
        "version": 3
      },
      "file_extension": ".py",
      "mimetype": "text/x-python",
      "name": "python",
      "nbconvert_exporter": "python",
      "pygments_lexer": "ipython3",
      "version": "3.10.4"
    }
  },
  "nbformat": 4,
  "nbformat_minor": 0
}
